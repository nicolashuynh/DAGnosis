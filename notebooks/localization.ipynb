{
 "cells": [
  {
   "cell_type": "code",
   "execution_count": 2,
   "metadata": {},
   "outputs": [],
   "source": [
    "#!imports\n",
    "import sys\n",
    "from pathlib import Path\n",
    "\n",
    "\n",
    "import warnings\n",
    "warnings.filterwarnings(\"ignore\")\n",
    "\n",
    "import seaborn as sns\n",
    "sns.set_theme()\n",
    "import numpy as np\n",
    "import random\n",
    "import torch\n",
    "\n",
    "from dagnosis.data.datamodule import SyntheticData\n",
    "from dagnosis.utils.data import sample_corrupted\n",
    "\n",
    "from dagnosis.utils.seed import set_random_seeds\n",
    "\n",
    "\n",
    "seed = 42\n",
    "set_random_seeds(seed)\n",
    "\n",
    "d = 4\n",
    "n_train = 1000\n",
    "n_test = 10000\n",
    "s = d-1\n",
    "\n",
    "sem_type = \"mlp\"\n",
    "graph_type = \"chain\"\n",
    "batch_size = n_train\n",
    "\n",
    "\n",
    "data_config_train={\n",
    "    \"dim\": d,\n",
    "    \"s0\": s, \n",
    "    \"n_train\": n_train,\n",
    "    \"n_test\": n_test,\n",
    "    \"sem_type\": sem_type,\n",
    "    \"dag_type\": graph_type,\n",
    "    \"batch_size\": batch_size,\n",
    "}\n",
    "\n",
    "\n",
    "\n",
    "D = SyntheticData(**data_config_train)\n",
    "D.setup()\n",
    "\n",
    "X_train = D.get_train()\n",
    "X_test_clean = D.get_test()\n",
    "\n",
    "\n",
    "\n",
    "    "
   ]
  },
  {
   "cell_type": "code",
   "execution_count": null,
   "metadata": {},
   "outputs": [
    {
     "name": "stdout",
     "output_type": "stream",
     "text": [
      "DAGNOSIS GT\n"
     ]
    },
    {
     "data": {
      "image/png": "[encoded data removed]",
      "text/plain": [
       "<Figure size 640x480 with 1 Axes>"
      ]
     },
     "metadata": {},
     "output_type": "display_data"
    },
    {
     "name": "stderr",
     "output_type": "stream",
     "text": [
      "100%|██████████| 4/4 [00:07<00:00,  2.00s/it]\n",
      "  0%|          | 0/4 [00:00<?, ?it/s]"
     ]
    },
    {
     "name": "stdout",
     "output_type": "stream",
     "text": [
      "DATA SUITE\n"
     ]
    },
    {
     "name": "stderr",
     "output_type": "stream",
     "text": [
      "100%|██████████| 4/4 [00:07<00:00,  1.96s/it]\n"
     ]
    },
    {
     "data": {
      "text/plain": [
       "<dagnosis.conformal.conformal_evaluator.ConformalEvaluator at 0x7b98f0bbe050>"
      ]
     },
     "execution_count": 3,
     "metadata": {},
     "output_type": "execute_result"
    }
   ],
   "source": [
    "\n",
    "from dagnosis.utils.plotting import plot_graph\n",
    "from dagnosis.conformal.significance_correction import BonferroniCorrection\n",
    "from dagnosis.conformal.conformal_evaluator import ConformalEvaluator\n",
    "from dagnosis.representation.representation_mapper import DAGRepresentationMapper, PCARepresentationMapper\n",
    "from dagnosis.dag_learner.extractor import GroundTruthDAG\n",
    "\n",
    "from omegaconf import OmegaConf\n",
    "\n",
    "conf_predictor_dict = {\n",
    "    \"_target_\": \"dagnosis.conformal.conformal_predictor.CQR\",\n",
    "    \"scale\": False,\n",
    "    \"seed\": seed,\n",
    "    \"cal_size\": 0.2,\n",
    "    \"n_search\": 100,\n",
    "    \"param_bounds\": {\n",
    "        \"num_leaves\": {\n",
    "            \"low\": 10,\n",
    "            \"high\": 50\n",
    "        },\n",
    "        \"max_depth\": {\n",
    "            \"low\": 3,\n",
    "            \"high\": 20\n",
    "        },\n",
    "        \"n_estimators\": {\n",
    "            \"low\": 50,\n",
    "            \"high\": 300\n",
    "        },\n",
    "        \"learning_rate\": {\n",
    "            \"low\": 0,\n",
    "            \"high\": 1\n",
    "        }\n",
    "    },\n",
    "    \"n_splits\": 5\n",
    "}\n",
    "conf_predictor_cfg = OmegaConf.create(conf_predictor_dict)\n",
    "alpha = 0.1 \n",
    "\n",
    "\n",
    "print(\"DAGNOSIS GT\")\n",
    "\n",
    "conformal_evaluator_dag = ConformalEvaluator(conf_predictor_cfg=conf_predictor_cfg)\n",
    "dag_extractor = GroundTruthDAG()\n",
    "A_gt = dag_extractor.extract(data = D)\n",
    "dag_representation = DAGRepresentationMapper()\n",
    "dag_representation.set_dag(A_gt)\n",
    "dag_representation.fit(X_train)\n",
    "plot_graph(A_gt, 0)\n",
    "list_features = np.arange(d)\n",
    "alphas_adjusted = BonferroniCorrection().compute_correction(significance=alpha, list_of_features=list_features)\n",
    "conformal_evaluator_dag.train(X_train = X_train, representation_mapper=dag_representation, list_features=list_features, alphas_adjusted=alphas_adjusted)\n",
    "\n",
    "\n",
    "\n",
    "print(\"DATA SUITE\")\n",
    "conformal_evaluator_pca = ConformalEvaluator(conf_predictor_cfg=conf_predictor_cfg)\n",
    "pca_mapper = PCARepresentationMapper(random_state=0, compression_factor=0.5)\n",
    "pca_mapper.fit(X_train)\n",
    "\n",
    "conformal_evaluator_pca.train(X_train = X_train, representation_mapper=pca_mapper, list_features=list_features, alphas_adjusted=alphas_adjusted)"
   ]
  },
  {
   "cell_type": "code",
   "execution_count": 4,
   "metadata": {},
   "outputs": [
    {
     "name": "stdout",
     "output_type": "stream",
     "text": [
      "Corrupted nodes: [3]\n"
     ]
    }
   ],
   "source": [
    "n_corrupted = 10000\n",
    "list_TPR_gain = []\n",
    "\n",
    "\n",
    "# only corrupt the last feature\n",
    "list_features_corruption = np.array([d-1])\n",
    "list_corruption_type = [\"gaussian_noise\"]*len(list_features_corruption)\n",
    "\n",
    "print(\"Corrupted nodes: {}\".format(list_features_corruption))\n",
    "\n",
    "noise_mean_list = np.zeros(d)\n",
    "X_test_corrupted, list_corrupted_SEMs, list_corrupted_parameters =sample_corrupted(D, n_corrupted, list_features_corruption, list_corruption_type, noise_mean_list=noise_mean_list, sample_last_layer=False, std_mlp = 2, mean_mlp =0)\n",
    "# Compute the predictions, and then compute the metrics\n",
    "\n",
    "conf_dict_gt = conformal_evaluator_dag.predict(\n",
    "    X_test_corrupted, list_features=list_features\n",
    ")\n",
    "\n",
    "conf_dict_pca = conformal_evaluator_pca.predict(\n",
    "    X_test_corrupted, list_features=list_features\n",
    ")\n"
   ]
  },
  {
   "cell_type": "code",
   "execution_count": 5,
   "metadata": {},
   "outputs": [
    {
     "name": "stdout",
     "output_type": "stream",
     "text": [
      "DAGNOSIS: On average, the inconsistent samples were flagged on 1.0498 features\n",
      "Std: 0.00452585857419341\n"
     ]
    }
   ],
   "source": [
    "# We compute, for each inconsistent samples, on how many features it was flagged\n",
    "n_indices_flagged_list_dn = []\n",
    "for row in range(len(X_test_corrupted)):\n",
    "    n_indices_flagged = 0\n",
    "    for feature in range(d):\n",
    "        if not (conf_dict_gt[feature].iloc[row][\"min\"] <= conf_dict_gt[feature].iloc[row][\"true_val\"] <= conf_dict_gt[feature].iloc[row][\"max\"]):\n",
    "            n_indices_flagged +=1\n",
    "    if n_indices_flagged >0:\n",
    "        #flagged at least on one feature\n",
    "        n_indices_flagged_list_dn.append(n_indices_flagged)\n",
    "print(f\"DAGNOSIS: On average, the inconsistent samples were flagged on {np.mean(n_indices_flagged_list_dn)} features\")\n",
    "print(f\"Std: {1.96*np.std(n_indices_flagged_list_dn)/np.sqrt(len(n_indices_flagged_list_dn))}\")\n",
    "\n",
    "        "
   ]
  },
  {
   "cell_type": "code",
   "execution_count": 6,
   "metadata": {},
   "outputs": [
    {
     "name": "stdout",
     "output_type": "stream",
     "text": [
      "Data-SUITE: On average, the inconsistent samples were flagged on 3.265 features\n",
      "Std:0.014687908360280576\n"
     ]
    }
   ],
   "source": [
    "n_indices_flagged_list_datasuite = []\n",
    "for row in range(len(X_test_corrupted)):\n",
    "    n_indices_flagged = 0\n",
    "    for feature in range(d):\n",
    "        if not (conf_dict_pca[feature].iloc[row][\"min\"] <= conf_dict_pca[feature].iloc[row][\"true_val\"] <= conf_dict_pca[feature].iloc[row][\"max\"]):\n",
    "            n_indices_flagged +=1\n",
    "    if n_indices_flagged >0:\n",
    "        #flagged at least on one feature\n",
    "        n_indices_flagged_list_datasuite.append(n_indices_flagged)\n",
    "print(f\"Data-SUITE: On average, the inconsistent samples were flagged on {np.mean(n_indices_flagged_list_datasuite)} features\")\n",
    "print(f\"Std:{1.96*np.std(n_indices_flagged_list_datasuite)/np.sqrt(len(n_indices_flagged_list_datasuite))}\")"
   ]
  }
 ],
 "metadata": {
  "kernelspec": {
   "display_name": "dagnosis",
   "language": "python",
   "name": "python3"
  },
  "language_info": {
   "codemirror_mode": {
    "name": "ipython",
    "version": 3
   },
   "file_extension": ".py",
   "mimetype": "text/x-python",
   "name": "python",
   "nbconvert_exporter": "python",
   "pygments_lexer": "ipython3",
   "version": "3.10.16"
  }
 },
 "nbformat": 4,
 "nbformat_minor": 2
}
